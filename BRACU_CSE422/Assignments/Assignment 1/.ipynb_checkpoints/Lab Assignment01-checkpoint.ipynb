{
 "cells": [
  {
   "cell_type": "markdown",
   "metadata": {},
   "source": [
    "Task 01"
   ]
  },
  {
   "cell_type": "code",
   "execution_count": 3,
   "metadata": {},
   "outputs": [],
   "source": [
    "import numpy"
   ]
  },
  {
   "cell_type": "code",
   "execution_count": 4,
   "metadata": {},
   "outputs": [
    {
     "name": "stdout",
     "output_type": "stream",
     "text": [
      "7\n"
     ]
    }
   ],
   "source": [
    "def infected_tracker(matrix, explored, i1, j1):\n",
    "  if not (0 <= i1 < r) or not (0 <= j1 < c) or matrix[i1][j1] == 0 or explored[i1][j1] == 1:\n",
    "    return 0\n",
    "  else:\n",
    "    icount = 1\n",
    "    explored[i1][j1] = 1\n",
    "    for x in range(i1-1, i1 + 2):\n",
    "      for y in range(j1-1,j1 + 2):\n",
    "        if i1!= x or j1 != y:\n",
    "          icount += infected_tracker(matrix, explored, x, y)\n",
    "    return icount\n",
    "\n",
    "\n",
    "\n",
    "matrix = []\n",
    "with open(\"Task01_Input1.txt\") as f:\n",
    "    line = f.readlines()\n",
    "\n",
    "for l in line:\n",
    "    matrix.append(l.split())\n",
    "r, c = len(matrix), len(matrix[0])\n",
    "for i in range(r):\n",
    "  for j in range(c):\n",
    "    if matrix[i][j] == \"Y\":\n",
    "      matrix[i][j] = 1\n",
    "    else:\n",
    "      matrix[i][j] = 0\n",
    "\n",
    "explored = numpy.zeros((r, c))\n",
    "mcount = 0\n",
    "\n",
    "for i in range(r):\n",
    "    for j in range(c):\n",
    "      mcount = max(mcount, infected_tracker(matrix,explored,i,j))\n",
    "print(mcount)"
   ]
  },
  {
   "cell_type": "markdown",
   "metadata": {},
   "source": [
    "Task 02"
   ]
  },
  {
   "cell_type": "code",
   "execution_count": 5,
   "metadata": {},
   "outputs": [],
   "source": [
    "import numpy\n",
    "from collections import deque as dq"
   ]
  },
  {
   "cell_type": "code",
   "execution_count": 6,
   "metadata": {},
   "outputs": [
    {
     "name": "stdout",
     "output_type": "stream",
     "text": [
      "Time: 4 minutes\n",
      "1 survived\n"
     ]
    }
   ],
   "source": [
    "city = []\n",
    "with open(\"Task02_Input2.txt\") as f:\n",
    "    line = f.readlines()\n",
    "\n",
    "r, c = int(line[0]), int(line[1])\n",
    "for l in line[2:]:\n",
    "      city.append(l.split())\n",
    "\n",
    "explored = numpy.zeros((r, c))\n",
    "\n",
    "human = []\n",
    "alien = dq()\n",
    "time = 0\n",
    "for i in range(r):\n",
    "    for j in range(c):\n",
    "        if city[i][j] == \"H\":\n",
    "            human.append((i, j))\n",
    "        elif city[i][j] == \"A\":\n",
    "            alien.append([i, j, time])\n",
    "\n",
    "aline_attack_scope = [(0, 1), (0, -1), (1, 0), (-1, 0)]\n",
    "while alien:\n",
    "    alien_x, alien_y, time = alien.popleft()\n",
    "    explored[alien_x][alien_y] = 1\n",
    "    for scope_x, scope_y in aline_attack_scope:\n",
    "        if 0 <= alien_x + scope_x < r and 0 <= alien_y + scope_y < c and city[alien_x + scope_x][alien_y + scope_y] == \"H\" and explored[alien_x][alien_y] == 1:\n",
    "            explored[alien_x + scope_x][alien_y + scope_y] = 1\n",
    "            city[alien_x + scope_x][alien_y + scope_y] = \"A\"\n",
    "            alien.append([alien_x + scope_x, alien_y + scope_y, time + 1])\n",
    "            human.remove((alien_x + scope_x, alien_y + scope_y))\n",
    "\n",
    "hleft = 0\n",
    "for i in range(r):\n",
    "    for j in range(c):\n",
    "        if city[i][j] == \"H\":\n",
    "            hleft += 1\n",
    "\n",
    "print(\"Time:\", time, \"minutes\")\n",
    "\n",
    "if hleft == 0:\n",
    "    print(\"No one survived\")\n",
    "else:\n",
    "    print(hleft, \"survived\")"
   ]
  },
  {
   "cell_type": "code",
   "execution_count": null,
   "metadata": {},
   "outputs": [],
   "source": []
  }
 ],
 "metadata": {
  "kernelspec": {
   "display_name": "Python 3 (ipykernel)",
   "language": "python",
   "name": "python3"
  },
  "language_info": {
   "codemirror_mode": {
    "name": "ipython",
    "version": 3
   },
   "file_extension": ".py",
   "mimetype": "text/x-python",
   "name": "python",
   "nbconvert_exporter": "python",
   "pygments_lexer": "ipython3",
   "version": "3.9.7"
  }
 },
 "nbformat": 4,
 "nbformat_minor": 2
}
