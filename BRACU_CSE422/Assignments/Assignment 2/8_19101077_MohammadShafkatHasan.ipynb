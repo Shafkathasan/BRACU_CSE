{
 "cells": [
  {
   "cell_type": "markdown",
   "metadata": {},
   "source": [
    "## CSE422 Lab Assignment 2\n"
   ]
  },
  {
   "cell_type": "markdown",
   "metadata": {},
   "source": [
    "### Importing libraries\n"
   ]
  },
  {
   "cell_type": "code",
   "execution_count": 1,
   "metadata": {},
   "outputs": [],
   "source": [
    "import numpy as np\n",
    "np.random.seed(69)\n"
   ]
  },
  {
   "cell_type": "markdown",
   "metadata": {},
   "source": [
    "### Taking inputs\n"
   ]
  },
  {
   "cell_type": "code",
   "execution_count": 2,
   "metadata": {},
   "outputs": [],
   "source": [
    "with open('test', 'r') as file:\n",
    "    file = file.readlines()[1:]\n",
    "\n",
    "l = [eval(c.replace('l', '-').replace('d', '')) for c in file]\n",
    "l = np.array(l)\n"
   ]
  },
  {
   "cell_type": "markdown",
   "metadata": {},
   "source": [
    "### Fitness function\n"
   ]
  },
  {
   "cell_type": "code",
   "execution_count": 3,
   "metadata": {},
   "outputs": [],
   "source": [
    "def fitness(chromosome):\n",
    "    if sum(chromosome > 0) < 2:\n",
    "        return 10000000\n",
    "    return abs(l[chromosome.nonzero()].sum())\n"
   ]
  },
  {
   "cell_type": "markdown",
   "metadata": {},
   "source": [
    "### Best Selection function\n",
    "\n",
    "This function might help to get the max fit selection:\n"
   ]
  },
  {
   "cell_type": "code",
   "execution_count": 4,
   "metadata": {},
   "outputs": [],
   "source": [
    "def select(population, fitness):\n",
    "    fitness = np.log1p(fitness)\n",
    "    probabilities = fitness/fitness.sum()\n",
    "    inv_p = 1-probabilities\n",
    "    inv_p = inv_p/inv_p.sum()\n",
    "    i, j = np.random.choice(population.shape[0], 2, p=inv_p)\n",
    "    return population[i], population[j]\n"
   ]
  },
  {
   "cell_type": "markdown",
   "metadata": {},
   "source": [
    "### Crossover function\n",
    "\n",
    "**function** CROSSOVER $(x, y)$ **returns** an individual\n",
    "\n",
    "**return** APPEND(SUBSTRING $(x, 1, c),$ SUBSTRING $(y, c+1, n))$\n"
   ]
  },
  {
   "cell_type": "code",
   "execution_count": 5,
   "metadata": {},
   "outputs": [],
   "source": [
    "def crossover(x, y):\n",
    "    i = np.random.randint(0, len(x))\n",
    "    return np.array([*x[0:i], *y[i:]])\n"
   ]
  },
  {
   "cell_type": "markdown",
   "metadata": {},
   "source": [
    "### Mutation function\n"
   ]
  },
  {
   "cell_type": "code",
   "execution_count": 6,
   "metadata": {},
   "outputs": [],
   "source": [
    "def mutate(child):\n",
    "    i = np.random.randint(0, len(child))\n",
    "    child[i] = np.random.randint(2)\n",
    "    return child\n"
   ]
  },
  {
   "cell_type": "markdown",
   "metadata": {},
   "source": [
    "### Genetic Algorithm Function\n"
   ]
  },
  {
   "cell_type": "code",
   "execution_count": 7,
   "metadata": {},
   "outputs": [],
   "source": [
    "def genetic_transaction(population, mutation_threshold=0.03, n_iter=1000000):\n",
    "    for _ in range(n_iter):\n",
    "        new_population = []\n",
    "        for _ in range(population.shape[0]):\n",
    "            fit = np.apply_along_axis(fitness, 1, population)\n",
    "            x, y = select(population, fit)\n",
    "            child = crossover(x, y)\n",
    "            new_population.append(child)\n",
    "\n",
    "            if np.random.rand() < mutation_threshold:\n",
    "                child = mutate(child)\n",
    "\n",
    "            if fitness(child) == 0:\n",
    "                print(''.join(str(c) for c in child))\n",
    "                return\n",
    "\n",
    "        population = np.array(new_population)\n",
    "\n",
    "    print(-1)\n"
   ]
  },
  {
   "cell_type": "markdown",
   "metadata": {},
   "source": [
    "Running the Genetic Algorithm function\n"
   ]
  },
  {
   "cell_type": "code",
   "execution_count": 8,
   "metadata": {},
   "outputs": [
    {
     "name": "stdout",
     "output_type": "stream",
     "text": [
      "1011010\n"
     ]
    }
   ],
   "source": [
    "n = len(l)\n",
    "population = np.random.randint(0, 2, (int(2.5*n), n))\n",
    "\n",
    "genetic_transaction(population)\n"
   ]
  }
 ],
 "metadata": {
  "interpreter": {
   "hash": "087b13f1f48f76f3ade6074afb0139a8981c080b1d57283e35da1d862ce5246a"
  },
  "kernelspec": {
   "display_name": "Python 3 (ipykernel)",
   "language": "python",
   "name": "python3"
  },
  "language_info": {
   "codemirror_mode": {
    "name": "ipython",
    "version": 3
   },
   "file_extension": ".py",
   "mimetype": "text/x-python",
   "name": "python",
   "nbconvert_exporter": "python",
   "pygments_lexer": "ipython3",
   "version": "3.9.7"
  }
 },
 "nbformat": 4,
 "nbformat_minor": 2
}
