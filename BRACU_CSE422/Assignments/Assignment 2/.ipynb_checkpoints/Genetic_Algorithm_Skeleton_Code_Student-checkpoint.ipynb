{
 "cells": [
  {
   "cell_type": "markdown",
   "metadata": {
    "id": "LjGNAQH1OA3l"
   },
   "source": [
    "## CSE422 lab: Genetic Algorithm\n"
   ]
  },
  {
   "cell_type": "markdown",
   "metadata": {
    "id": "7W2dAmlIEMXj"
   },
   "source": [
    "#### Genetic Algorithm Pseudo code:\n"
   ]
  },
  {
   "cell_type": "markdown",
   "metadata": {
    "id": "gdQcmGl0_jvc"
   },
   "source": [
    "**function** GENETIC-ALGORITHM( population, FITNESS-FN) **returns** an individual\n",
    "\n",
    "> **inputs:** population- a set of individuals/chromosomes; FITNESS-FN- a function that measures the fitness of an individual\n",
    "\n",
    "> **repeat**\n",
    "> new_population $\\leftarrow$ empty set\n",
    ">\n",
    "> > **for** $i=1$ **to** size ($ population$) **do**\n",
    "\n",
    "$$\n",
    "\\begin{array}{l}\n",
    "x \\leftarrow \\text { RANDOM-SELECTION }(\\text { population, FITNESS-FN }) \\\\\n",
    "y \\leftarrow \\text { RANDOM-SELECTION }(\\text { population, FITNESS-FN }) \\\\\n",
    "child  \\leftarrow \\operatorname{CROSSOVER}(x, y)\n",
    "\\end{array}\n",
    "$$\n",
    "\n",
    "> > > **if** (some_random_number < mutation_threshold) **then** child$\\leftarrow$ MUTATE ( child )\n",
    "\n",
    "> > > add child to new_population\n",
    "\n",
    "> > population $\\leftarrow$ new_population\n",
    "\n",
    "> **until** some individual is fit enough, or enough time has elapsed\n",
    "\n",
    "> **return** the best individual in population, according to FITNESS-FN\n"
   ]
  },
  {
   "cell_type": "markdown",
   "metadata": {
    "id": "nDkKH11UOHvy"
   },
   "source": [
    "### Skeleton Code:\n"
   ]
  },
  {
   "cell_type": "markdown",
   "metadata": {
    "id": "Z86D3OcTgZAN"
   },
   "source": [
    "### Importing libraries\n"
   ]
  },
  {
   "cell_type": "code",
   "execution_count": 1,
   "metadata": {
    "id": "DVUZn7mX25Zj"
   },
   "outputs": [],
   "source": [
    "import numpy as np\n"
   ]
  },
  {
   "cell_type": "markdown",
   "metadata": {
    "id": "FrkwKxS0gUV5"
   },
   "source": [
    "### Fitness function\n"
   ]
  },
  {
   "cell_type": "code",
   "execution_count": 2,
   "metadata": {
    "id": "CGWWuBT820Uo"
   },
   "outputs": [],
   "source": [
    "def fitness(population, n):\n",
    "    '''calculates the fitness score of each\n",
    "       of the individuals in the population\n",
    "\n",
    "       returns a 1D numpy array: index referring to \n",
    "       ith individual in population, and value referring \n",
    "       to the fitness score.'''\n",
    "\n",
    "    if len(population.shape) == 1:\n",
    "        population = np.array([population])\n",
    "    fitness = np.zeros(population.shape[0])\n",
    "    for i in range(population.shape[0]):\n",
    "        pairs = set()\n",
    "        chromosome = population[i]\n",
    "        for j in range(population.shape[1]-1):\n",
    "            for k in range(j+1, population.shape[1]):\n",
    "                if chromosome[j] == chromosome[k] or abs((chromosome[k]-chromosome[j])/(k-j)) == 1:\n",
    "                    pairs.add((j, k))\n",
    "        fitness[i] = (n**2-n)//2-len(pairs)\n",
    "\n",
    "    return fitness\n"
   ]
  },
  {
   "cell_type": "markdown",
   "metadata": {
    "id": "F-5xhfamezBP"
   },
   "source": [
    "### Random Selection function\n",
    "\n",
    "This built-in function might help to create the weighted random selection:\n",
    "\n",
    "`numpy.random.choice(a, size, replace, p)`\n",
    "\n",
    "`p` are the weights of the individuals- value between 0 and 1; refers to the probability of each individual being selected.\n",
    "\n",
    "`a` is the array\n",
    "\n",
    "`size` how many samples to return\n",
    "\n",
    "`replace = True`\n"
   ]
  },
  {
   "cell_type": "code",
   "execution_count": 3,
   "metadata": {
    "id": "mCgercZ4_DQ8"
   },
   "outputs": [],
   "source": [
    "def select(population, fit):\n",
    "    ''' take input:  population and fit\n",
    "        fit contains fitness values of each of the individuals \n",
    "        in the population  \n",
    "\n",
    "        return:  one individual randomly giving\n",
    "        more weight to ones which have high fitness score'''\n",
    "    a = population\n",
    "    size = 1\n",
    "    p = fit/fit.sum()\n",
    "    c = np.random.choice(population.shape[0], p=p)\n",
    "\n",
    "    return population[c]"
   ]
  },
  {
   "cell_type": "markdown",
   "metadata": {
    "id": "ysZu4DVmgshV"
   },
   "source": [
    "### Crossover function\n",
    "\n",
    "**function** CROSSOVER $(x, y)$ **returns** an individual\n",
    "\n",
    "> **inputs**: $x, y$ which are the parent individuals\n",
    "\n",
    "> $n \\leftarrow \\mathrm{LENGTH}(x) ; c \\leftarrow$ random number from 1 to $n$\n",
    "\n",
    "> **return** APPEND(SUBSTRING $(x, 1, c),$ SUBSTRING $(y, c+1, n))$\n"
   ]
  },
  {
   "cell_type": "code",
   "execution_count": 4,
   "metadata": {
    "id": "ZtmoFQ9ugwN_"
   },
   "outputs": [],
   "source": [
    "def crossover(x, y):\n",
    "    '''take input: 2 parents - x, y. \n",
    "       Generate a random crossover point. \n",
    "       Append first half of x with second \n",
    "       half of y to create the child\n",
    "\n",
    "       returns: a child chromosome'''\n",
    "    i = np.random.randint(0, len(x))\n",
    "    return np.array([*x[0:i], *y[i:]])\n",
    "\n"
   ]
  },
  {
   "cell_type": "markdown",
   "metadata": {
    "id": "RJJuuGbyxzho"
   },
   "source": [
    "###Mutation function\n"
   ]
  },
  {
   "cell_type": "code",
   "execution_count": 5,
   "metadata": {
    "id": "zRIG9DXmxzFw"
   },
   "outputs": [],
   "source": [
    "def mutate(child):\n",
    "    '''take input: a child\n",
    "       mutates a random \n",
    "       gene into another random gene\n",
    "\n",
    "       returns: mutated child'''\n",
    "    i = np.random.randint(0, len(child))\n",
    "    child[i] = np.random.randint(0, len(child))\n",
    "    return child\n"
   ]
  },
  {
   "cell_type": "markdown",
   "metadata": {
    "id": "yOPop-7n5WYL"
   },
   "source": [
    "### Genetic Algorithm Function\n"
   ]
  },
  {
   "cell_type": "code",
   "execution_count": 6,
   "metadata": {
    "id": "uw2sfb9nW_yo"
   },
   "outputs": [],
   "source": [
    "def GA(population, n, mutation_threshold=0.3):\n",
    "    '''implement the pseudocode here by\n",
    "       calling the necessary functions- Fitness, \n",
    "       Selection, Crossover and Mutation\n",
    "\n",
    "       print: the max fitness value and the \n",
    "       chromosome that generated it which is ultimately \n",
    "       the solution board'''\n",
    "    nmax = 10000000\n",
    "    max_fit = (n**2-n)//2\n",
    "    for i in range(nmax):\n",
    "        new_population = []\n",
    "        fit = fitness(population, n)\n",
    "        for _ in range(len(population)):\n",
    "            x = select(population, fit)\n",
    "            y = select(population, fit)\n",
    "            c = crossover(x, y)\n",
    "            if np.random.rand() < mutation_threshold:\n",
    "                c = mutate(c)\n",
    "            if fitness(c, n)[0] == max_fit:\n",
    "                print(\n",
    "                    f'One of the solutions: \\n{[*c]}\\nFound in {i+1} generation')\n",
    "                return\n",
    "            new_population.append(c)\n",
    "        population = np.array(new_population)"
   ]
  },
  {
   "cell_type": "markdown",
   "metadata": {
    "id": "cHKgDnDKb8mh"
   },
   "source": [
    "Running the Genetic Algorithm function\n"
   ]
  },
  {
   "cell_type": "code",
   "execution_count": 7,
   "metadata": {
    "id": "01Pz8Q_Jb7qE"
   },
   "outputs": [
    {
     "name": "stdout",
     "output_type": "stream",
     "text": [
      "One of the solutions: \n",
      "[5, 2, 6, 1, 7, 4, 0, 3]\n",
      "Found in 448 generation\n"
     ]
    }
   ],
   "source": [
    "np.random.seed(69)\n",
    "'''for 8 queen problem, n = 8'''\n",
    "n = 8\n",
    "\n",
    "'''start_population denotes how many individuals/chromosomes are there\n",
    "  in the initial population n = 8'''\n",
    "start_population = 100\n",
    "\n",
    "'''if you want you can set mutation_threshold to a higher value,\n",
    "   to increase the chances of mutation'''\n",
    "mutation_threshold = 0.03\n",
    "\n",
    "'''creating the population with random integers between 0 to 7 inclusive\n",
    "   for n = 8 queen problem'''\n",
    "population = np.random.randint(0, n, (start_population, n))\n",
    "\n",
    "'''calling the GA function'''\n",
    "GA(population, n, mutation_threshold)\n"
   ]
  }
 ],
 "metadata": {
  "colab": {
   "collapsed_sections": [],
   "name": "Genetic_Algorithm_Skeleton_Code_Student.ipynb",
   "provenance": []
  },
  "kernelspec": {
   "display_name": "Python 3 (ipykernel)",
   "language": "python",
   "name": "python3"
  },
  "language_info": {
   "codemirror_mode": {
    "name": "ipython",
    "version": 3
   },
   "file_extension": ".py",
   "mimetype": "text/x-python",
   "name": "python",
   "nbconvert_exporter": "python",
   "pygments_lexer": "ipython3",
   "version": "3.9.12"
  }
 },
 "nbformat": 4,
 "nbformat_minor": 1
}
